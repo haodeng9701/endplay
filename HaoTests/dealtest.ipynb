{
 "cells": [
  {
   "cell_type": "code",
   "execution_count": 1,
   "metadata": {},
   "outputs": [],
   "source": [
    "import endplay"
   ]
  },
  {
   "cell_type": "code",
   "execution_count": 2,
   "metadata": {},
   "outputs": [],
   "source": [
    "from endplay.types import Deal\n",
    "d = Deal(\"N:974.AJ3.63.AK963 K83.K9752.7.8752 AQJ5.T864.KJ94.4 T62.Q.AQT852.QJT\")"
   ]
  },
  {
   "cell_type": "code",
   "execution_count": 3,
   "metadata": {},
   "outputs": [
    {
     "name": "stdout",
     "output_type": "stream",
     "text": [
      "              974\n",
      "              AJ3\n",
      "              63\n",
      "              AK963\n",
      "T62                         K83\n",
      "Q                           K9752\n",
      "AQT852                      7\n",
      "QJT                         8752\n",
      "              AQJ5\n",
      "              T864\n",
      "              KJ94\n",
      "              4\n"
     ]
    }
   ],
   "source": [
    "d.pprint()"
   ]
  },
  {
   "cell_type": "code",
   "execution_count": 4,
   "metadata": {},
   "outputs": [
    {
     "data": {
      "text/plain": [
       "Hand(\"974.AJ3.63.AK963\")"
      ]
     },
     "execution_count": 4,
     "metadata": {},
     "output_type": "execute_result"
    }
   ],
   "source": [
    "d.north"
   ]
  },
  {
   "cell_type": "code",
   "execution_count": 5,
   "metadata": {},
   "outputs": [
    {
     "name": "stdout",
     "output_type": "stream",
     "text": [
      "♠ T62\n",
      "♥ Q\n",
      "♦ AQT852\n",
      "♣ QJT\n"
     ]
    }
   ],
   "source": [
    "from endplay.types import Player\n",
    "w = d[Player.west]\n",
    "w.pprint()"
   ]
  },
  {
   "cell_type": "code",
   "execution_count": 7,
   "metadata": {},
   "outputs": [
    {
     "name": "stdout",
     "output_type": "stream",
     "text": [
      "974.AJ3.63.AK963\n",
      "Player.north\n",
      "K83.K9752.7.8752\n",
      "Player.east\n",
      "AQJ5.T864.KJ94.4\n",
      "Player.south\n",
      "T62.Q.AQT852.QJT\n",
      "Player.west\n"
     ]
    }
   ],
   "source": [
    "for p, h in d:\n",
    "    print(h)\n",
    "    print(p)"
   ]
  },
  {
   "cell_type": "code",
   "execution_count": 10,
   "metadata": {},
   "outputs": [
    {
     "name": "stdout",
     "output_type": "stream",
     "text": [
      "♠ AQ\n",
      "♥ \n",
      "♦ T964\n",
      "♣ QJ975\n"
     ]
    }
   ],
   "source": [
    "from endplay.types import Hand\n",
    "d = Deal()\n",
    "h = Hand(\"AQ..T964.QJ975\")\n",
    "d.west = h\n",
    "d.west.pprint()\n",
    "#= \"AQ..T964.QJ975\" # equivalent"
   ]
  },
  {
   "cell_type": "code",
   "execution_count": 11,
   "metadata": {},
   "outputs": [],
   "source": [
    "from endplay.types import Card, Rank, Denom"
   ]
  },
  {
   "cell_type": "code",
   "execution_count": 12,
   "metadata": {},
   "outputs": [
    {
     "name": "stdout",
     "output_type": "stream",
     "text": [
      "♥9\n"
     ]
    }
   ],
   "source": [
    "c = Card(suit=Denom.hearts, rank=Rank.R9)\n",
    "print(c)"
   ]
  },
  {
   "cell_type": "code",
   "execution_count": 15,
   "metadata": {},
   "outputs": [
    {
     "data": {
      "text/plain": [
       "3"
      ]
     },
     "execution_count": 15,
     "metadata": {},
     "output_type": "execute_result"
    }
   ],
   "source": [
    "h = Hand()\n",
    "h.extend([\"SQ\", \"HA\", \"CT\"])\n",
    "len(h)"
   ]
  },
  {
   "cell_type": "code",
   "execution_count": 16,
   "metadata": {},
   "outputs": [
    {
     "name": "stdout",
     "output_type": "stream",
     "text": [
      "♠Q, ♥A, ♣T\n"
     ]
    }
   ],
   "source": [
    "print(\", \".join(str(c) for c in h))"
   ]
  },
  {
   "cell_type": "code",
   "execution_count": 17,
   "metadata": {},
   "outputs": [
    {
     "data": {
      "text/plain": [
       "SuitHolding(\"Q\")"
      ]
     },
     "execution_count": 17,
     "metadata": {},
     "output_type": "execute_result"
    }
   ],
   "source": [
    "h.spades"
   ]
  },
  {
   "cell_type": "code",
   "execution_count": 18,
   "metadata": {},
   "outputs": [
    {
     "name": "stdout",
     "output_type": "stream",
     "text": [
      "Q\n"
     ]
    }
   ],
   "source": [
    "print(h.spades)"
   ]
  },
  {
   "cell_type": "code",
   "execution_count": 19,
   "metadata": {},
   "outputs": [
    {
     "name": "stdout",
     "output_type": "stream",
     "text": [
      "Q2\n"
     ]
    }
   ],
   "source": [
    "h.spades.add(Rank.R2)\n",
    "print(h.spades)"
   ]
  },
  {
   "cell_type": "code",
   "execution_count": 20,
   "metadata": {},
   "outputs": [
    {
     "name": "stdout",
     "output_type": "stream",
     "text": [
      "              65\n",
      "              ---\n",
      "              2\n",
      "              ---\n",
      "8                           ---\n",
      "---                         A\n",
      "83                          AK\n",
      "---                         ---\n",
      "              ---\n",
      "              J\n",
      "              97\n",
      "              ---\n"
     ]
    }
   ],
   "source": [
    "d = Deal(\"65..2. .A.AK. .J.97. 8..83.\")\n",
    "d.pprint()"
   ]
  },
  {
   "cell_type": "code",
   "execution_count": 22,
   "metadata": {},
   "outputs": [
    {
     "name": "stdout",
     "output_type": "stream",
     "text": [
      "              65\n",
      "              ---\n",
      "              2\n",
      "              ---\n",
      "8                           ---\n",
      "---                         A\n",
      "83                          AK\n",
      "---                         ---\n",
      "              ---\n",
      "              J\n",
      "              97\n",
      "              ---\n"
     ]
    }
   ],
   "source": [
    "d.pprint()"
   ]
  },
  {
   "cell_type": "code",
   "execution_count": 24,
   "metadata": {},
   "outputs": [
    {
     "name": "stdout",
     "output_type": "stream",
     "text": [
      "              5\n",
      "              ---\n",
      "              2\n",
      "              ---\n",
      "8              ^♠6          ---\n",
      "---                         A\n",
      "83                          AK\n",
      "---                         ---\n",
      "              ---\n",
      "              J\n",
      "              97\n",
      "              ---\n"
     ]
    }
   ],
   "source": [
    "d.trump = Denom.hearts\n",
    "d.first = Player.north\n",
    "d.play(\"S6\")\n",
    "d.pprint()"
   ]
  },
  {
   "cell_type": "code",
   "execution_count": 25,
   "metadata": {},
   "outputs": [],
   "source": [
    "d.play(\"DA\")"
   ]
  },
  {
   "cell_type": "code",
   "execution_count": 26,
   "metadata": {},
   "outputs": [
    {
     "name": "stdout",
     "output_type": "stream",
     "text": [
      "              5\n",
      "              ---\n",
      "              2\n",
      "              ---\n",
      "8              ^♠6          ---\n",
      "---               >♦A       A\n",
      "83                          K\n",
      "---                         ---\n",
      "              ---\n",
      "              J\n",
      "              97\n",
      "              ---\n"
     ]
    }
   ],
   "source": [
    "d.pprint()"
   ]
  },
  {
   "cell_type": "code",
   "execution_count": 27,
   "metadata": {},
   "outputs": [
    {
     "data": {
      "text/plain": [
       "Deal('N:T754.K53.T.KQ873 A92.A6.AJ85.9652 863.J9874.Q7.JT4 KQJ.QT2.K96432.A')"
      ]
     },
     "execution_count": 27,
     "metadata": {},
     "output_type": "execute_result"
    }
   ],
   "source": [
    "from endplay.dealer import generate_deal\n",
    "generate_deal()"
   ]
  },
  {
   "cell_type": "code",
   "execution_count": 30,
   "metadata": {},
   "outputs": [
    {
     "ename": "TypeError",
     "evalue": "unsupported operand type(s) for +: 'function' and 'function'",
     "output_type": "error",
     "traceback": [
      "\u001b[1;31m---------------------------------------------------------------------------\u001b[0m",
      "\u001b[1;31mTypeError\u001b[0m                                 Traceback (most recent call last)",
      "Cell \u001b[1;32mIn[30], line 8\u001b[0m\n\u001b[0;32m      5\u001b[0m \u001b[38;5;28;01mdef\u001b[39;00m \u001b[38;5;21meast_2nt\u001b[39m(deal):\n\u001b[0;32m      6\u001b[0m     \u001b[38;5;28;01mreturn\u001b[39;00m \u001b[38;5;241m20\u001b[39m \u001b[38;5;241m<\u001b[39m\u001b[38;5;241m=\u001b[39m hcp(deal\u001b[38;5;241m.\u001b[39meast) \u001b[38;5;241m<\u001b[39m\u001b[38;5;241m=\u001b[39m \u001b[38;5;241m22\u001b[39m \u001b[38;5;129;01mand\u001b[39;00m is_balanced(deal\u001b[38;5;241m.\u001b[39meast)\n\u001b[1;32m----> 8\u001b[0m d \u001b[38;5;241m=\u001b[39m generate_deal(\u001b[43mnorth_2nt\u001b[49m\u001b[38;5;241;43m+\u001b[39;49m\u001b[43meast_2nt\u001b[49m)\n\u001b[0;32m      9\u001b[0m d\u001b[38;5;241m.\u001b[39mpprint()\n",
      "\u001b[1;31mTypeError\u001b[0m: unsupported operand type(s) for +: 'function' and 'function'"
     ]
    }
   ],
   "source": [
    "from endplay.evaluate import hcp, is_balanced\n",
    "def north_2nt(deal):\n",
    "    return 20 <= hcp(deal.north) <= 22 and is_balanced(deal.north)\n",
    "\n",
    "def east_2nt(deal):\n",
    "    return 20 <= hcp(deal.east) <= 22 and is_balanced(deal.east)\n",
    "\n",
    "d = generate_deal(north_2nt+east_2nt)\n",
    "d.pprint()"
   ]
  },
  {
   "cell_type": "code",
   "execution_count": 33,
   "metadata": {},
   "outputs": [
    {
     "data": {
      "text/plain": [
       "'hcp(north) >= 20 && hcp(north) <= 22 && shape(north, any 4333 + any 4432 + any 5332)hcp(east) >= 20 && hcp(east) <= 22 && shape(east, any 4333 + any 4432 + any 5332)'"
      ]
     },
     "execution_count": 33,
     "metadata": {},
     "output_type": "execute_result"
    }
   ],
   "source": [
    "x = \"hcp(north) >= 20 && hcp(north) <= 22 && shape(north, any 4333 + any 4432 + any 5332)\"\n",
    "y = \"hcp(east) >= 20 && hcp(east) <= 22 && shape(east, any 4333 + any 4432 + any 5332)\"\n",
    "\n",
    "x+y"
   ]
  },
  {
   "cell_type": "code",
   "execution_count": 37,
   "metadata": {},
   "outputs": [
    {
     "name": "stdout",
     "output_type": "stream",
     "text": [
      "              KQ853\n",
      "              K86\n",
      "              A86\n",
      "              QJ\n",
      "---                         AJ92\n",
      "AJT9432                     Q75\n",
      "KT                          J932\n",
      "T865                        AK\n",
      "              T764\n",
      "              ---\n",
      "              Q754\n",
      "              97432\n"
     ]
    }
   ],
   "source": [
    "def two_opens(deal):\n",
    "    return 15 <= hcp(deal.north) <= 22 and is_balanced(deal.north) and 15 <= hcp(deal.east) <= 22 and is_balanced(deal.east)\n",
    "d = generate_deal(two_opens)\n",
    "d.pprint()"
   ]
  },
  {
   "cell_type": "code",
   "execution_count": 48,
   "metadata": {},
   "outputs": [
    {
     "data": {
      "text/plain": [
       "7"
      ]
     },
     "execution_count": 48,
     "metadata": {},
     "output_type": "execute_result"
    }
   ],
   "source": [
    "hcp(d.east.spades)"
   ]
  },
  {
   "cell_type": "code",
   "execution_count": 52,
   "metadata": {},
   "outputs": [
    {
     "name": "stdout",
     "output_type": "stream",
     "text": [
      "              ---\n",
      "              QT62\n",
      "              AJ8752\n",
      "              A65\n",
      "AKQT9543                    J82\n",
      "K3                          J87\n",
      "---                         T9643\n",
      "872                         K3\n",
      "              76\n",
      "              A954\n",
      "              KQ\n",
      "              QJT94\n"
     ]
    }
   ],
   "source": [
    "def west_opens_4S(deal):\n",
    "    return 9 <= hcp(deal.west) <=13 and 8<=len(deal.west.spades)<=8 #and hcp(d.west.spades)>=5\n",
    "d = generate_deal(west_opens_4S)\n",
    "d.pprint()"
   ]
  },
  {
   "cell_type": "code",
   "execution_count": 53,
   "metadata": {},
   "outputs": [
    {
     "data": {
      "text/plain": [
       "Hand(\"76.A954.KQ.QJT94\")"
      ]
     },
     "execution_count": 53,
     "metadata": {},
     "output_type": "execute_result"
    }
   ],
   "source": [
    "d.south"
   ]
  },
  {
   "cell_type": "code",
   "execution_count": 54,
   "metadata": {},
   "outputs": [
    {
     "name": "stdout",
     "output_type": "stream",
     "text": [
      "              KQJ98\n",
      "              QJ\n",
      "              972\n",
      "              QT6\n",
      "T754                        3\n",
      "A962                        K873\n",
      "4                           QT53\n",
      "J743                        AK82\n",
      "              A62\n",
      "              T54\n",
      "              AKJ86\n",
      "              95\n"
     ]
    }
   ],
   "source": [
    "\n",
    "def south_fix(deal):\n",
    "    return deal.south == Hand(\"A62.KQ6.AK6.Q652\")\n",
    "d = generate_deal(south_fix)\n",
    "d.pprint()"
   ]
  },
  {
   "cell_type": "code",
   "execution_count": 57,
   "metadata": {},
   "outputs": [
    {
     "name": "stdout",
     "output_type": "stream",
     "text": [
      "              J72\n",
      "              J875\n",
      "              A32\n",
      "              532\n",
      "K865                        A9\n",
      "92                          Q3\n",
      "9874                        KJ6\n",
      "A76                         KQJT98\n",
      "              QT43\n",
      "              AKT64\n",
      "              QT5\n",
      "              4\n",
      "--------------------------------------------------\n",
      "              K4\n",
      "              AQJT94\n",
      "              J73\n",
      "              Q4\n",
      "J983                        Q72\n",
      "873                         K652\n",
      "852                         K\n",
      "876                         AK952\n",
      "              AT65\n",
      "              ---\n",
      "              AQT964\n",
      "              JT3\n",
      "--------------------------------------------------\n"
     ]
    }
   ],
   "source": [
    "from endplay.dealer import generate_deals\n",
    "dd = generate_deals(produce=2)\n",
    "for deal in dd:\n",
    "    deal.pprint()\n",
    "    print('-'*50)"
   ]
  },
  {
   "cell_type": "code",
   "execution_count": 64,
   "metadata": {},
   "outputs": [
    {
     "name": "stdout",
     "output_type": "stream",
     "text": [
      "              T7\n",
      "              87\n",
      "              T9865\n",
      "              AT84\n",
      "KQJ98543                    ---\n",
      "5                           KJT632\n",
      "K                           AQJ74\n",
      "732                         K9\n",
      "              A62\n",
      "              AQ94\n",
      "              32\n",
      "              QJ65\n",
      "     ♣  ♦  ♥  ♠ NT\n",
      "  N  7  7  5  3  7\n",
      "  S  7  6  5  3  5\n",
      "  E  5  6  8 10  6\n",
      "  W  5  6  8 10  6\n",
      "----------------------------------------\n"
     ]
    },
    {
     "ename": "KeyboardInterrupt",
     "evalue": "",
     "output_type": "error",
     "traceback": [
      "\u001b[1;31m---------------------------------------------------------------------------\u001b[0m",
      "\u001b[1;31mKeyboardInterrupt\u001b[0m                         Traceback (most recent call last)",
      "Cell \u001b[1;32mIn[64], line 5\u001b[0m\n\u001b[0;32m      3\u001b[0m d \u001b[38;5;241m=\u001b[39m generate_deals(testhand, produce\u001b[38;5;241m=\u001b[39m\u001b[38;5;241m5\u001b[39m)\n\u001b[0;32m      4\u001b[0m \u001b[38;5;28;01mfrom\u001b[39;00m \u001b[38;5;21;01mendplay\u001b[39;00m\u001b[38;5;21;01m.\u001b[39;00m\u001b[38;5;21;01mdds\u001b[39;00m \u001b[38;5;28;01mimport\u001b[39;00m calc_dd_table\n\u001b[1;32m----> 5\u001b[0m \u001b[38;5;28;01mfor\u001b[39;00m deal \u001b[38;5;129;01min\u001b[39;00m d:\n\u001b[0;32m      6\u001b[0m     deal\u001b[38;5;241m.\u001b[39mpprint()\n\u001b[0;32m      7\u001b[0m     table \u001b[38;5;241m=\u001b[39m calc_dd_table(deal)\n",
      "File \u001b[1;32mc:\\Users\\haode\\AppData\\Local\\Programs\\Python\\Python310\\lib\\site-packages\\endplay\\dealer\\generate.py:206\u001b[0m, in \u001b[0;36mgenerate_deals\u001b[1;34m(predeal, swapping, show_progress, produce, seed, max_attempts, env, strict, *constraints)\u001b[0m\n\u001b[0;32m    204\u001b[0m generated \u001b[38;5;241m+\u001b[39m\u001b[38;5;241m=\u001b[39m \u001b[38;5;241m1\u001b[39m\n\u001b[0;32m    205\u001b[0m rs\u001b[38;5;241m.\u001b[39mshuffle(cards)  \u001b[38;5;66;03m# type: ignore\u001b[39;00m\n\u001b[1;32m--> 206\u001b[0m deal \u001b[38;5;241m=\u001b[39m \u001b[43mpredeal\u001b[49m\u001b[38;5;241;43m.\u001b[39;49m\u001b[43mcopy\u001b[49m\u001b[43m(\u001b[49m\u001b[43m)\u001b[49m\n\u001b[0;32m    207\u001b[0m \u001b[38;5;28;01mfor\u001b[39;00m i, player \u001b[38;5;129;01min\u001b[39;00m \u001b[38;5;28menumerate\u001b[39m(Player):\n\u001b[0;32m    208\u001b[0m     deal[player]\u001b[38;5;241m.\u001b[39mextend(cards[split[i] : split[i \u001b[38;5;241m+\u001b[39m \u001b[38;5;241m1\u001b[39m]])\n",
      "File \u001b[1;32mc:\\Users\\haode\\AppData\\Local\\Programs\\Python\\Python310\\lib\\site-packages\\endplay\\types\\deal.py:76\u001b[0m, in \u001b[0;36mDeal.copy\u001b[1;34m(self)\u001b[0m\n\u001b[0;32m     74\u001b[0m \u001b[38;5;28;01mdef\u001b[39;00m \u001b[38;5;21mcopy\u001b[39m(\u001b[38;5;28mself\u001b[39m) \u001b[38;5;241m-\u001b[39m\u001b[38;5;241m>\u001b[39m \u001b[38;5;124m\"\u001b[39m\u001b[38;5;124mDeal\u001b[39m\u001b[38;5;124m\"\u001b[39m:\n\u001b[0;32m     75\u001b[0m     \u001b[38;5;124m\"\u001b[39m\u001b[38;5;124mReturn a new copy of this deal\u001b[39m\u001b[38;5;124m\"\u001b[39m\n\u001b[1;32m---> 76\u001b[0m     \u001b[38;5;28;01mreturn\u001b[39;00m \u001b[38;5;28;43mself\u001b[39;49m\u001b[38;5;241;43m.\u001b[39;49m\u001b[43m__copy__\u001b[49m\u001b[43m(\u001b[49m\u001b[43m)\u001b[49m\n",
      "File \u001b[1;32mc:\\Users\\haode\\AppData\\Local\\Programs\\Python\\Python310\\lib\\site-packages\\endplay\\types\\deal.py:63\u001b[0m, in \u001b[0;36mDeal.__copy__\u001b[1;34m(self)\u001b[0m\n\u001b[0;32m     61\u001b[0m other\u001b[38;5;241m.\u001b[39m_data\u001b[38;5;241m.\u001b[39mtrump \u001b[38;5;241m=\u001b[39m \u001b[38;5;28mself\u001b[39m\u001b[38;5;241m.\u001b[39m_data\u001b[38;5;241m.\u001b[39mtrump\n\u001b[0;32m     62\u001b[0m other\u001b[38;5;241m.\u001b[39m_data\u001b[38;5;241m.\u001b[39mfirst \u001b[38;5;241m=\u001b[39m \u001b[38;5;28mself\u001b[39m\u001b[38;5;241m.\u001b[39m_data\u001b[38;5;241m.\u001b[39mfirst\n\u001b[1;32m---> 63\u001b[0m \u001b[43mctypes\u001b[49m\u001b[38;5;241;43m.\u001b[39;49m\u001b[43mmemmove\u001b[49m\u001b[43m(\u001b[49m\n\u001b[0;32m     64\u001b[0m \u001b[43m    \u001b[49m\u001b[43mother\u001b[49m\u001b[38;5;241;43m.\u001b[39;49m\u001b[43m_data\u001b[49m\u001b[38;5;241;43m.\u001b[39;49m\u001b[43mcurrentTrickSuit\u001b[49m\u001b[43m,\u001b[49m\u001b[43m \u001b[49m\u001b[38;5;28;43mself\u001b[39;49m\u001b[38;5;241;43m.\u001b[39;49m\u001b[43m_data\u001b[49m\u001b[38;5;241;43m.\u001b[39;49m\u001b[43mcurrentTrickSuit\u001b[49m\u001b[43m,\u001b[49m\u001b[43m \u001b[49m\u001b[43mSIZEOF_TRICK\u001b[49m\n\u001b[0;32m     65\u001b[0m \u001b[43m\u001b[49m\u001b[43m)\u001b[49m\n\u001b[0;32m     66\u001b[0m ctypes\u001b[38;5;241m.\u001b[39mmemmove(\n\u001b[0;32m     67\u001b[0m     other\u001b[38;5;241m.\u001b[39m_data\u001b[38;5;241m.\u001b[39mcurrentTrickRank, \u001b[38;5;28mself\u001b[39m\u001b[38;5;241m.\u001b[39m_data\u001b[38;5;241m.\u001b[39mcurrentTrickRank, SIZEOF_TRICK\n\u001b[0;32m     68\u001b[0m )\n\u001b[0;32m     69\u001b[0m ctypes\u001b[38;5;241m.\u001b[39mmemmove(\n\u001b[0;32m     70\u001b[0m     other\u001b[38;5;241m.\u001b[39m_data\u001b[38;5;241m.\u001b[39mremainCards, \u001b[38;5;28mself\u001b[39m\u001b[38;5;241m.\u001b[39m_data\u001b[38;5;241m.\u001b[39mremainCards, SIZEOF_REMAINCARDS\n\u001b[0;32m     71\u001b[0m )\n",
      "\u001b[1;31mKeyboardInterrupt\u001b[0m: "
     ]
    }
   ],
   "source": [
    "def testhand(deal):\n",
    "    return 9 <= hcp(deal.west) <=13 and 8<=len(deal.west.spades)<=8 and deal.south == Hand(\"A62.KQ6.AK6.Q652\")\n",
    "d = generate_deals(testhand, produce=5)\n",
    "from endplay.dds import calc_dd_table\n",
    "for deal in d:\n",
    "    deal.pprint()\n",
    "    table = calc_dd_table(deal)\n",
    "    table.pprint()\n",
    "    print('-'*40)"
   ]
  },
  {
   "cell_type": "code",
   "execution_count": 101,
   "metadata": {},
   "outputs": [
    {
     "name": "stdout",
     "output_type": "stream",
     "text": [
      "              K4\n",
      "              KT754\n",
      "              AJ64\n",
      "              A8\n",
      "QJT8753                     9\n",
      "Q3                          92\n",
      "QT5                         K832\n",
      "Q                           KJ7642\n",
      "              A62\n",
      "              AJ86\n",
      "              97\n",
      "              T953\n"
     ]
    }
   ],
   "source": [
    "def testhand(deal):\n",
    "    return 9 <= hcp(deal.west) <=13 and 7<=len(deal.west.spades)<=8 and deal.south == Hand(\"A62.KQ6.AK6.Q652\")\n",
    "d = generate_deal(testhand)\n",
    "d.pprint()"
   ]
  },
  {
   "cell_type": "code",
   "execution_count": 80,
   "metadata": {},
   "outputs": [
    {
     "data": {
      "text/plain": [
       "True"
      ]
     },
     "execution_count": 80,
     "metadata": {},
     "output_type": "execute_result"
    }
   ],
   "source": [
    "# d.south.spades = \"A62\"\n",
    "# d.south.hearts = \"KQ6\"\n",
    "# d.south.diamonds = \"AK6\"\n",
    "# d.south.clubs = \"Q652\"\n",
    "d.south = Hand(\"A62.KQ6.AK6.Q652\")\n",
    "d.south == Hand(\"A62.KT6.AK6.Q652\")\n",
    "#d.pprint()"
   ]
  },
  {
   "cell_type": "code",
   "execution_count": 96,
   "metadata": {},
   "outputs": [],
   "source": [
    "# def south_fix(deal):\n",
    "#     h = Hand(\"A62.KQ6.AK6.Q652\")\n",
    "#     return deal.south.hearts == \"KQ6\"\n",
    "d = generate_deals(\"hcp(south) >= 18 && hcp(south) <= 19 && shape(south, 3334) && spades(west)==8\", produce=40)\n",
    "#d = generate_deal(\"spades(west)==8\")\n",
    "\n",
    "#d.pprint()"
   ]
  },
  {
   "cell_type": "code",
   "execution_count": 97,
   "metadata": {},
   "outputs": [
    {
     "name": "stdout",
     "output_type": "stream",
     "text": [
      "              54\n",
      "              AK62\n",
      "              AKQ63\n",
      "              T9\n",
      "QJT98632                    ---\n",
      "T8                          7543\n",
      "4                           T972\n",
      "86                          QJ532\n",
      "              AK7\n",
      "              QJ9\n",
      "              J85\n",
      "              AK74\n"
     ]
    },
    {
     "name": "stderr",
     "output_type": "stream",
     "text": [
      "c:\\Users\\haode\\AppData\\Local\\Programs\\Python\\Python310\\lib\\site-packages\\endplay\\dealer\\generate.py:202: DealNotGeneratedWarning: Only 1 out of 40 hands were generated before max_attempts (set to 1000000) was reached\n",
      "  warnings.warn(message, DealNotGeneratedWarning)\n"
     ]
    }
   ],
   "source": [
    "for deal in d:\n",
    "    deal.pprint()"
   ]
  },
  {
   "cell_type": "code",
   "execution_count": 100,
   "metadata": {},
   "outputs": [
    {
     "ename": "AttributeError",
     "evalue": "'generator' object has no attribute 'list'",
     "output_type": "error",
     "traceback": [
      "\u001b[1;31m---------------------------------------------------------------------------\u001b[0m",
      "\u001b[1;31mAttributeError\u001b[0m                            Traceback (most recent call last)",
      "Cell \u001b[1;32mIn[100], line 1\u001b[0m\n\u001b[1;32m----> 1\u001b[0m \u001b[43md\u001b[49m\u001b[38;5;241;43m.\u001b[39;49m\u001b[43mlist\u001b[49m()\n",
      "\u001b[1;31mAttributeError\u001b[0m: 'generator' object has no attribute 'list'"
     ]
    }
   ],
   "source": [
    "d"
   ]
  },
  {
   "cell_type": "code",
   "execution_count": 109,
   "metadata": {},
   "outputs": [],
   "source": [
    "import endplay.parsers.pbn as pbn\n",
    "with open(\"dealer_scripts/sample.pbn\") as f:\n",
    "    boards = pbn.load(f)\n",
    "boardA = boards[0]"
   ]
  },
  {
   "cell_type": "code",
   "execution_count": 112,
   "metadata": {},
   "outputs": [
    {
     "name": "stdout",
     "output_type": "stream",
     "text": [
      "              AT9\n",
      "              2\n",
      "              J432\n",
      "              A9863\n",
      "KJ85                        76432\n",
      "AQT853                      4\n",
      "9                           KQ\n",
      "K4                          QJT72\n",
      "              Q\n",
      "              KJ976\n",
      "              AT8765\n",
      "              5\n"
     ]
    }
   ],
   "source": [
    "boardA.deal.pprint()"
   ]
  },
  {
   "cell_type": "code",
   "execution_count": 133,
   "metadata": {},
   "outputs": [
    {
     "name": "stdout",
     "output_type": "stream",
     "text": [
      "              5\n",
      "              AT97643\n",
      "              JT87\n",
      "              7\n",
      "JT97432                     86\n",
      "2                           K5\n",
      "K6                          9543\n",
      "AQ6                         KT982\n",
      "              AKQ\n",
      "              QJ8\n",
      "              AQ2\n",
      "              J543\n"
     ]
    }
   ],
   "source": [
    "import endplay.parsers.pbn as pbn\n",
    "with open(\"dealer_scripts/temp2.pbn\") as f:\n",
    "    boards = pbn.load(f)\n",
    "boardA = boards[5]\n",
    "boardA.deal.pprint()"
   ]
  },
  {
   "cell_type": "code",
   "execution_count": null,
   "metadata": {},
   "outputs": [],
   "source": []
  }
 ],
 "metadata": {
  "kernelspec": {
   "display_name": "Python 3",
   "language": "python",
   "name": "python3"
  },
  "language_info": {
   "codemirror_mode": {
    "name": "ipython",
    "version": 3
   },
   "file_extension": ".py",
   "mimetype": "text/x-python",
   "name": "python",
   "nbconvert_exporter": "python",
   "pygments_lexer": "ipython3",
   "version": "3.10.0"
  }
 },
 "nbformat": 4,
 "nbformat_minor": 2
}
